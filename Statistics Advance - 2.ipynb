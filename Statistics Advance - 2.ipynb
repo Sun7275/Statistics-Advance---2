{
 "cells": [
  {
   "cell_type": "code",
   "execution_count": null,
   "metadata": {},
   "outputs": [],
   "source": [
    "#1- Define the z-statistic and explain its relationship to the standard normal distribution. How is the z-statistic used in hypothesis testing?\n",
    "\n",
    "\n",
    "#Definition of the Z-Statistic:-\n",
    "#The z-statistic is a measure that quantifies the number of standard deviations a data point (or sample mean) is from the population mean\n",
    "\n",
    "#Relationship to the Standard Normal Distribution:-\n",
    "#The z-statistic follows a standard normal distribution, which is a normal distribution with a mean of 0 and a standard deviation of 1\n",
    "#The standard normal distribution is crucial for determining probabilities and critical values when conducting statistical tests.\n",
    "\n",
    "#Use of Z-Statistic in Hypothesis Testing:-\n",
    "#Calculate the Z-Statistic:\n",
    "\n",
    "#Using the sample data, calculate the z-statistic based on the mean, population mean, and standard deviation.\n",
    "#Find Critical Values:\n",
    "\n",
    "#Using the standard normal distribution, identify the critical z-values corresponding to the chosen significance level.\n"
   ]
  },
  {
   "cell_type": "code",
   "execution_count": 2,
   "metadata": {},
   "outputs": [],
   "source": [
    "#2-What is a p-value, and how is it used in hypothesis testing? What does it mean if the p-value is very small (e.g., 0.01)?\n",
    "\n",
    "#p-value: The probability of obtaining test results at least as extreme as the observed results, under the assumption that the null hypothesis is true.\n",
    "\n",
    "#Use in Hypothesis Testing:-\n",
    "#Formulate Hypotheses\n",
    "#Calculate the p-value\n",
    "#Decision Making\n",
    "#Interpretation of a Small p-value (e.g., 0.01):-\n",
    "\n",
    "#A p-value of 0.01 indicates that there is only a 1% probability of observing the data (or something more extreme) if the null hypothesis is true.\n"
   ]
  },
  {
   "cell_type": "code",
   "execution_count": 3,
   "metadata": {},
   "outputs": [],
   "source": [
    "#3- Compare and contrast the binomial and Bernoulli distributions. \n",
    "\n",
    "#Bernoulli Distribution:\n",
    "\n",
    "#A Bernoulli distribution models a single trial with two possible outcomes: success (1) and failure (0).\n",
    "#It is characterized by a single parameter ( p ), which represents the probability of success.\n",
    "\n",
    "#Binomial Distribution:\n",
    "\n",
    "#A binomial distribution models the number of successes in a fixed number of independent Bernoulli trials (n trials)\n",
    "#It is characterized by two parameters: ( n ) (the number of trials) and ( p ) (the probability of success in each trial).\n",
    "\n"
   ]
  },
  {
   "cell_type": "code",
   "execution_count": 4,
   "metadata": {},
   "outputs": [],
   "source": [
    "#4- Under what conditions is the binomial distribution used, and how does it relate to the Bernoulli distribution?\n",
    "\n",
    "#The binomial distribution is used when the following conditions are met:-\n",
    "#You have a fixed number of trials (n).\n",
    "#Each trial has only two possible outcomes (success or failure)\n",
    "#The probability of success (p) is constant for each trial\n",
    "\n",
    "#It relates to the Bernoulli distribution because each of the n trials in a binomial experiment follows a Bernoulli distribution. Essentially, a binomial distribution sums up the results of multiple Bernoulli trials.\n",
    "\n"
   ]
  },
  {
   "cell_type": "code",
   "execution_count": 5,
   "metadata": {},
   "outputs": [],
   "source": [
    "#5-: What are the key properties of the Poisson distribution, and when is it appropriate to use this distribution?\n",
    "\n",
    "#The Poisson distribution is used for modeling the number of times an event occurs in a fixed interval of time or space. Here's what you need to know\n",
    "\n",
    "#Key Properties:\n",
    "#Discreet Nature: Counts occurrences of events.\n",
    "\n",
    "#Lambda : The mean number of occurrences in the interval.\n",
    "\n",
    "#No Upper Limit: The number of occurrences is potentially infinite.\n",
    "\n",
    "#Independence: Each event is independent of others.\n",
    "\n",
    "#Events Rare and Random: Each event happens at a constant average rate.\n"
   ]
  },
  {
   "cell_type": "code",
   "execution_count": 6,
   "metadata": {},
   "outputs": [],
   "source": [
    "#6- Define the terms \"probability distribution\" and \"probability density function\" (PDF). How does a PDF differ from a probability mass function (PMF)?\n",
    "\n",
    "#Probability Distribution\n",
    "#This is a function or rule that assigns probabilities to each possible outcome in a sample space. It’s the mathematical description of a random variable’s behavior.\n",
    "\n",
    "#Probability Density Function (PDF):-\n",
    "\n",
    "#A PDF describes the likelihood of a continuous random variable taking on a particular value. It’s used in the context of continuous variables, where the probability of the variable taking an exact value is zero, so instead, we look at the probability over an interval.\n",
    "\n",
    "#Probability Mass Function (PMF):-\n",
    "\n",
    "#A PMF, on the other hand, applies to discrete random variables. It gives the probability that a discrete variable is exactly equal to some value.\n",
    "\n",
    "#Differences\n",
    "#PMF: Used for discrete variables (like the number of heads in coin tosses).\n",
    "\n",
    "#PDF: Used for continuous variables (like heights of people)."
   ]
  },
  {
   "cell_type": "code",
   "execution_count": 7,
   "metadata": {},
   "outputs": [],
   "source": [
    "#7-  Explain the Central Limit Theorem (CLT) with example.\n",
    "\n",
    "#The Central Limit Theorem (CLT) states that the distribution of the sample mean approaches a normal distribution, \n",
    "#regardless of the shape of the population distribution, as the sample size becomes large enough.\n",
    "\n",
    "#Example:-\n",
    "#Imagine you're a candy manufacturer and you want to know the average weight of candies in a bag. You can't weigh all the candies, so you take a sample.\n",
    "\n",
    "#Say you have a skewed population distribution. According to CLT, if you take many samples (each with a large enough size) and calculate their means, these means will form a normal distribution\n"
   ]
  },
  {
   "cell_type": "code",
   "execution_count": 8,
   "metadata": {},
   "outputs": [],
   "source": [
    "#8- Compare z-scores and t-scores. When should you use a z-score, and when should a t-score be applied instead\n",
    "\n",
    "#Z-Scores:-\n",
    "#Use When: The population standard deviation is known and the sample size is large (n > 30).\n",
    "#Distribution: Standard normal distribution.\n",
    "\n",
    "#T-Scores:-\n",
    "#Use When: The population standard deviation is unknown and the sample size is small (n < 30).\n",
    "#Distribution: T-distribution, which accounts for extra uncertainty with smaller samples.\n",
    "\n"
   ]
  },
  {
   "cell_type": "code",
   "execution_count": 9,
   "metadata": {},
   "outputs": [
    {
     "name": "stdout",
     "output_type": "stream",
     "text": [
      "Z-Score: 1.6666666666666667\n",
      "P-Value: 0.09558070454562939\n"
     ]
    }
   ],
   "source": [
    "#9- Given a sample mean of 105, a population mean of 100, a standard deviation of 15, and a sample size of 25, calculate the z-score and p-value. Based on a significance level of 0.05, do you reject or fail to reject the null hypothesis?\n",
    "# Task: Write Python code to calculate the z-score and p-value for the given data.\n",
    "#Objective: Apply the formula for the z-score and interpret the p-value for hypothesis testing\n",
    "\n",
    "\n",
    "import scipy.stats as stats\n",
    "\n",
    "# Given data\n",
    "sample_mean = 105\n",
    "population_mean = 100\n",
    "std_dev = 15\n",
    "sample_size = 25\n",
    "\n",
    "# Calculate the z-score\n",
    "z_score = (sample_mean - population_mean) / (std_dev / (sample_size ** 0.5))\n",
    "print(f\"Z-Score: {z_score}\")\n",
    "\n",
    "# Calculate the p-value\n",
    "p_value = 2 * (1 - stats.norm.cdf(abs(z_score)))\n",
    "print(f\"P-Value: {p_value}\")\n",
    "\n"
   ]
  },
  {
   "cell_type": "code",
   "execution_count": 10,
   "metadata": {},
   "outputs": [
    {
     "name": "stdout",
     "output_type": "stream",
     "text": [
      "Mean: 6.021\n",
      "Variance: 2.260559\n"
     ]
    },
    {
     "data": {
      "image/png": "[encoded data removed]",
      "text/plain": [
       "<Figure size 640x480 with 1 Axes>"
      ]
     },
     "metadata": {},
     "output_type": "display_data"
    }
   ],
   "source": [
    "#10- Simulate a binomial distribution with 10 trials and a probability of success of 0.6 using Python.Generate 1,000 samples and plot the distribution. What is the expected mean and variance?\n",
    "#Task: Use Python to generate the data, plot the distribution, and calculate the mean and variance.\n",
    "#Objective: Understand the properties of a binomial distribution and verify them through simulation.\n",
    "\n",
    "import numpy as np\n",
    "import matplotlib.pyplot as plt\n",
    "\n",
    "# Parameters\n",
    "n_trials = 10\n",
    "p_success = 0.6\n",
    "n_samples = 1000\n",
    "\n",
    "# Simulate binomial distribution\n",
    "data = np.random.binomial(n_trials, p_success, n_samples)\n",
    "\n",
    "# Calculate mean and variance\n",
    "mean = np.mean(data)\n",
    "variance = np.var(data)\n",
    "print(f\"Mean: {mean}\")\n",
    "print(f\"Variance: {variance}\")\n",
    "\n",
    "# Plot the distribution\n",
    "plt.hist(data, bins=range(n_trials + 2), align='left', rwidth=0.8)\n",
    "plt.title('Binomial Distribution')\n",
    "plt.xlabel('Number of Successes')\n",
    "plt.ylabel('Frequency')\n",
    "plt.show()\n",
    "\n",
    "\n"
   ]
  },
  {
   "cell_type": "code",
   "execution_count": null,
   "metadata": {},
   "outputs": [],
   "source": []
  }
 ],
 "metadata": {
  "kernelspec": {
   "display_name": "Python 3",
   "language": "python",
   "name": "python3"
  },
  "language_info": {
   "codemirror_mode": {
    "name": "ipython",
    "version": 3
   },
   "file_extension": ".py",
   "mimetype": "text/x-python",
   "name": "python",
   "nbconvert_exporter": "python",
   "pygments_lexer": "ipython3",
   "version": "3.12.4"
  }
 },
 "nbformat": 4,
 "nbformat_minor": 2
}
